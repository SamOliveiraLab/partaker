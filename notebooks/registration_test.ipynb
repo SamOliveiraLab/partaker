{
 "cells": [
  {
   "cell_type": "code",
   "id": "initial_id",
   "metadata": {
    "ExecuteTime": {
     "end_time": "2025-08-12T08:14:24.153701Z",
     "start_time": "2025-08-12T08:14:23.296729Z"
    }
   },
   "source": [
    "# Load images\n",
    "import numpy as np\n",
    "import nd2\n",
    "import matplotlib.pyplot as plt\n",
    "import imageio.v2 as iio\n",
    "\n",
    "test_dataset = nd2.imread('/Users/hiram/Documents/EVERYTHING/20-29 Research/22 OliveiraLab/22.12 ND2 analyzer/nd2-analyzer/SR_1_5_2h_Pre-C_3h_IPTG_After10h_05_MC.nd2', dask=True)\n",
    "test_pos_over_time = test_dataset[:, 0, 0]"
   ],
   "outputs": [],
   "execution_count": 1
  },
  {
   "metadata": {
    "ExecuteTime": {
     "end_time": "2025-08-12T08:20:11.876050Z",
     "start_time": "2025-08-12T08:20:11.866846Z"
    }
   },
   "cell_type": "code",
   "source": [
    "from skimage.registration import phase_cross_correlation\n",
    "import numpy as np\n",
    "\n",
    "def register_timestack(images):\n",
    "    registered = [images[0]]  # First frame as reference\n",
    "    shifts = [(0, 0)]\n",
    "\n",
    "    for i in range(1, len(images)):\n",
    "        shift, error, phase_diff = phase_cross_correlation(\n",
    "            images[0], images[i],\n",
    "            upsample_factor=100  # for sub-pixel precision\n",
    "        )\n",
    "        registered.append(np.roll(images[i], shift.astype(int), axis=(0,1)))\n",
    "        shifts.append(shift)\n",
    "\n",
    "    return registered, shifts"
   ],
   "id": "c3ef32aa563a8141",
   "outputs": [],
   "execution_count": 11
  },
  {
   "metadata": {
    "ExecuteTime": {
     "end_time": "2025-08-12T08:14:25.724435Z",
     "start_time": "2025-08-12T08:14:25.719542Z"
    }
   },
   "cell_type": "code",
   "source": [
    "import matplotlib.pyplot as plt\n",
    "from time import sleep\n",
    "\n",
    "# frames: a NumPy array of shape (N, H, W) or (N, H, W, 3)\n",
    "def show_frames_matplotlib(frames, delay=0.1):\n",
    "    plt.ion()  # interactive mode on\n",
    "    fig, ax = plt.subplots()\n",
    "    for frame in frames:\n",
    "        ax.clear()\n",
    "        if frame.ndim == 2:\n",
    "            ax.imshow(frame, cmap='gray', vmin=0, vmax=255)\n",
    "        else:\n",
    "            ax.imshow(frame)\n",
    "        ax.axis('off')\n",
    "        display(fig)\n",
    "        plt.pause(delay)\n",
    "    plt.ioff()\n",
    "    plt.show()"
   ],
   "id": "b73b0baffe08d058",
   "outputs": [],
   "execution_count": 3
  },
  {
   "metadata": {
    "ExecuteTime": {
     "end_time": "2025-08-12T08:15:23.690425Z",
     "start_time": "2025-08-12T08:15:22.112357Z"
    }
   },
   "cell_type": "code",
   "source": [
    "import imageio.v3 as iio\n",
    "import numpy as np\n",
    "import cv2\n",
    "\n",
    "# frames: (N,H,W) uint8\n",
    "frames = ((test_pos_over_time / 65535) * 255).compute().astype(np.uint8)\n",
    "frames_rgb = np.stack([frames]*3, axis=-1)  # (N,H,W,3)\n",
    "\n",
    "# frames_rgb: (N, H, W, 3) uint8 in RGB\n",
    "h, w = frames_rgb.shape[1], frames_rgb.shape[2]\n",
    "fourcc = cv2.VideoWriter_fourcc(*\"mp4v\")\n",
    "out = cv2.VideoWriter(\"timelapse.mp4\", fourcc, 15.0, (w, h), isColor=True)\n",
    "\n",
    "for fr in frames_rgb:\n",
    "    fr_bgr = cv2.cvtColor(fr, cv2.COLOR_RGB2BGR)\n",
    "    out.write(fr_bgr)\n",
    "\n",
    "out.release()\n",
    "print(\"Saved timelapse.mp4\")\n"
   ],
   "id": "3f6a464d59ff5813",
   "outputs": [
    {
     "name": "stdout",
     "output_type": "stream",
     "text": [
      "Saved timelapse.mp4\n"
     ]
    }
   ],
   "execution_count": 6
  },
  {
   "metadata": {
    "ExecuteTime": {
     "end_time": "2025-08-12T08:20:18.999134Z",
     "start_time": "2025-08-12T08:20:18.993552Z"
    }
   },
   "cell_type": "code",
   "source": "frames_rgb.shape",
   "id": "20cf262db1d0a7ca",
   "outputs": [
    {
     "data": {
      "text/plain": [
       "(37, 1040, 1392, 3)"
      ]
     },
     "execution_count": 12,
     "metadata": {},
     "output_type": "execute_result"
    }
   ],
   "execution_count": 12
  },
  {
   "metadata": {
    "ExecuteTime": {
     "end_time": "2025-08-12T08:22:00.683245Z",
     "start_time": "2025-08-12T08:21:55.654745Z"
    }
   },
   "cell_type": "code",
   "source": [
    "# Do the registration\n",
    "registered, shifts = register_timestack(frames)"
   ],
   "id": "e555ed0110b7d5c8",
   "outputs": [],
   "execution_count": 14
  },
  {
   "metadata": {
    "ExecuteTime": {
     "end_time": "2025-08-12T08:22:29.662377Z",
     "start_time": "2025-08-12T08:22:29.444855Z"
    }
   },
   "cell_type": "code",
   "source": [
    "import imageio.v3 as iio\n",
    "import numpy as np\n",
    "import cv2\n",
    "\n",
    "# # frames: (N,H,W) uint8\n",
    "# frames = ((test_pos_over_time / 65535) * 255).compute().astype(np.uint8)\n",
    "# frames_rgb = np.stack([frames]*3, axis=-1)  # (N,H,W,3)\n",
    "\n",
    "# frames_rgb: (N, H, W, 3) uint8 in RGB\n",
    "h, w = frames.shape[1], frames.shape[2]\n",
    "fourcc = cv2.VideoWriter_fourcc(*\"mp4v\")\n",
    "out = cv2.VideoWriter(\"registered.mp4\", fourcc, 15.0, (w, h), isColor=True)\n",
    "\n",
    "for fr in registered:\n",
    "    fr_bgr = cv2.cvtColor(fr, cv2.COLOR_GRAY2BGR)\n",
    "    out.write(fr_bgr)\n",
    "\n",
    "out.release()\n",
    "print(\"Saved timelapse.mp4\")\n"
   ],
   "id": "a300c0117337d397",
   "outputs": [
    {
     "name": "stdout",
     "output_type": "stream",
     "text": [
      "Saved timelapse.mp4\n"
     ]
    }
   ],
   "execution_count": 15
  }
 ],
 "metadata": {
  "kernelspec": {
   "display_name": "Python 3",
   "language": "python",
   "name": "python3"
  },
  "language_info": {
   "codemirror_mode": {
    "name": "ipython",
    "version": 2
   },
   "file_extension": ".py",
   "mimetype": "text/x-python",
   "name": "python",
   "nbconvert_exporter": "python",
   "pygments_lexer": "ipython2",
   "version": "2.7.6"
  }
 },
 "nbformat": 4,
 "nbformat_minor": 5
}
