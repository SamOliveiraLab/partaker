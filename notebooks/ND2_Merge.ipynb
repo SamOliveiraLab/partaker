{
 "cells": [
  {
   "cell_type": "code",
   "execution_count": null,
   "id": "2a1ff317-6710-4799-bd6b-a4a35006ec28",
   "metadata": {},
   "outputs": [],
   "source": [
    "\n",
    "\n",
    "file_list = [\n",
    "    '',\n",
    "]"
   ]
  }
 ],
 "metadata": {
  "kernelspec": {
   "display_name": "base",
   "language": "python",
   "name": "python3"
  },
  "language_info": {
   "codemirror_mode": {
    "name": "ipython",
    "version": 3
   },
   "file_extension": ".py",
   "mimetype": "text/x-python",
   "name": "python",
   "nbconvert_exporter": "python",
   "pygments_lexer": "ipython3",
   "version": "3.13.5"
  }
 },
 "nbformat": 4,
 "nbformat_minor": 5
}
