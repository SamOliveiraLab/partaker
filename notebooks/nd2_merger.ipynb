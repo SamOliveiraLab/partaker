{
 "cells": [
  {
   "cell_type": "code",
   "execution_count": 5,
   "id": "3e1bf452",
   "metadata": {},
   "outputs": [],
   "source": [
    "import nd2\n",
    "\n",
    "\n",
    "prefix = '/Volumes/legazpi/22.13 Partaker Dataset/'\n",
    "\n",
    "# \n",
    "\n",
    "# '1-SR_1_9_6hPre-C_1h30aTc_TS_MC1.nd2'\n",
    "\n",
    "# Exp 1\n",
    "exp_1_9_lauren_replicate_2 = [\n",
    "    '1-SR_1_9_6hPre-C_1h30aTc_TS_MC1.nd2',\n",
    "    '1-SR_1_9_6hPre-C_1h30aTc_TS_MC2.nd2',\n",
    "    '1-SR_1_9_6hPre-C_1h30aTc_TS_MC3.nd2',\n",
    "    '2-SR_1_9_6hPre-C_10hIPTG_TS_MC1.nd2',\n",
    "    '2-SR_1_9_6hPre-C_10hIPTG_TS_MC2.nd2',\n",
    "    '3-SR_1_9_6hPre-C_NO_IPTG_TS_MC1.nd2',\n",
    "    '3-SR_1_9_6hPre-C_NO_IPTG_TS_MC2.nd2',\n",
    "]"
   ]
  },
  {
   "cell_type": "code",
   "execution_count": 6,
   "id": "32e8e256",
   "metadata": {},
   "outputs": [
    {
     "name": "stdout",
     "output_type": "stream",
     "text": [
      "<ND2File at 0x109812ad0: '1-SR_1_9_6hPre-C_1h30aTc_TS_MC1.nd2' uint16: mappingproxy({'T': 17, 'P': 20, 'C': 3, 'Y': 1040, 'X': 1392})>\n",
      "<ND2File at 0x103c5dcd0: '1-SR_1_9_6hPre-C_1h30aTc_TS_MC2.nd2' uint16: mappingproxy({'T': 10, 'P': 20, 'C': 3, 'Y': 1040, 'X': 1392})>\n"
     ]
    },
    {
     "name": "stderr",
     "output_type": "stream",
     "text": [
      "/var/folders/qz/0cbhxg4s7jsf6cyzrm1_nkq40000gn/T/ipykernel_33999/2343217046.py:2: UserWarning: ND2File file not closed before garbage collection. Please use `with ND2File(...):` context or call `.close()`.\n",
      "  print(nd2.ND2File(path=prefix +  exp))\n"
     ]
    },
    {
     "name": "stdout",
     "output_type": "stream",
     "text": [
      "<ND2File at 0x108d5ad50: '1-SR_1_9_6hPre-C_1h30aTc_TS_MC3.nd2' uint16: mappingproxy({'T': 25, 'P': 20, 'C': 3, 'Y': 1040, 'X': 1392})>\n",
      "<ND2File at 0x103c7ed50: '2-SR_1_9_6hPre-C_10hIPTG_TS_MC1.nd2' uint16: mappingproxy({'T': 104, 'P': 20, 'C': 3, 'Y': 1040, 'X': 1392})>\n",
      "<ND2File at 0x103c7ed50: '2-SR_1_9_6hPre-C_10hIPTG_TS_MC2.nd2' uint16: mappingproxy({'T': 30, 'P': 20, 'C': 3, 'Y': 1040, 'X': 1392})>\n",
      "<ND2File at 0x103c7ed50: '3-SR_1_9_6hPre-C_NO_IPTG_TS_MC1.nd2' uint16: mappingproxy({'T': 111, 'P': 20, 'C': 3, 'Y': 1040, 'X': 1392})>\n",
      "<ND2File at 0x103c7ed50: '3-SR_1_9_6hPre-C_NO_IPTG_TS_MC2.nd2' uint16: mappingproxy({'T': 40, 'P': 20, 'C': 3, 'Y': 1040, 'X': 1392})>\n"
     ]
    }
   ],
   "source": [
    "for exp in exp_1_9_lauren_replicate_2:\n",
    "    print(nd2.ND2File(path=prefix +  exp))"
   ]
  },
  {
   "cell_type": "code",
   "execution_count": 4,
   "id": "143e5b15",
   "metadata": {},
   "outputs": [
    {
     "data": {
      "text/plain": [
       "<ND2File at 0x1096ea590: '1-SR_1_9_6hPre-C_1h30aTc_TS_MC2.nd2' uint16: mappingproxy({'T': 10, 'P': 20, 'C': 3, 'Y': 1040, 'X': 1392})>"
      ]
     },
     "execution_count": 4,
     "metadata": {},
     "output_type": "execute_result"
    }
   ],
   "source": [
    "nd2.ND2File(path=prefix +  '1-SR_1_9_6hPre-C_1h30aTc_TS_MC2.nd2')"
   ]
  },
  {
   "cell_type": "code",
   "execution_count": null,
   "id": "321fe9b3",
   "metadata": {},
   "outputs": [],
   "source": []
  }
 ],
 "metadata": {
  "kernelspec": {
   "display_name": "base",
   "language": "python",
   "name": "python3"
  },
  "language_info": {
   "codemirror_mode": {
    "name": "ipython",
    "version": 3
   },
   "file_extension": ".py",
   "mimetype": "text/x-python",
   "name": "python",
   "nbconvert_exporter": "python",
   "pygments_lexer": "ipython3",
   "version": "3.13.5"
  }
 },
 "nbformat": 4,
 "nbformat_minor": 5
}
